{
 "cells": [
  {
   "cell_type": "code",
   "execution_count": 43,
   "metadata": {},
   "outputs": [],
   "source": [
    "import pandas as pd\n",
    "import numpy as np\n",
    "import matplotlib.pyplot as plt\n",
    "import cv2\n",
    "import codecs, json\n",
    "import ast\n",
    "from glob import glob"
   ]
  },
  {
   "cell_type": "code",
   "execution_count": 31,
   "metadata": {},
   "outputs": [],
   "source": [
    "# Json içerisine değer eklemek için kullanılır.\n",
    "def add_value(dict_obj, key, value):\n",
    "    if key not in dict_obj:\n",
    "        dict_obj.update({key: value})"
   ]
  },
  {
   "cell_type": "code",
   "execution_count": 48,
   "metadata": {},
   "outputs": [
    {
     "name": "stdout",
     "output_type": "stream",
     "text": [
      "1\n",
      "1\n",
      "2\n"
     ]
    }
   ],
   "source": [
    "img_paths = glob(\"C:/Users/Pc/CALISMALARIM/PyQt5_Projeler/Mask-to-json-to-mask/veri/*\")\n",
    "\n",
    "label_id = 0\n",
    "labels = {}\n",
    "\n",
    "\n",
    "for img_path in img_paths:\n",
    "   \n",
    "    # -------------- Kontur Kısmı --------------------\n",
    "    img = cv2.imread(img_path)\n",
    "\n",
    "    kopya = img.copy()\n",
    "    kopya = cv2.cvtColor(kopya, cv2.COLOR_RGB2GRAY)\n",
    "\n",
    "    blur = cv2.cv2.GaussianBlur(kopya,(5,5),0)\n",
    "    thresh = cv2.threshold(blur,10,255,cv2.THRESH_BINARY)[1]\n",
    "    kontur_1 = cv2.findContours(thresh.copy(),cv2.RETR_EXTERNAL,cv2.CHAIN_APPROX_SIMPLE)\n",
    "\n",
    "    if len(kontur_1[0]) == 1:\n",
    "\n",
    "        kontur = kontur_1[0:-1][0][0]\n",
    "\n",
    "        x_list = [[]]\n",
    "        y_list = [[]]\n",
    "        for num, i in enumerate(kontur):\n",
    "            x_list[0].append(kontur[num][0][0])\n",
    "            y_list[0].append(kontur[num][0][1])\n",
    "\n",
    "    elif len(kontur_1[0]) > 1:\n",
    "\n",
    "        kontur = kontur_1[0:-1][0]\n",
    "        x_list = []\n",
    "        y_list = []\n",
    "\n",
    "        for i in range(len(kontur)):\n",
    "            kontur_2 = kontur[i]\n",
    "            xara_list = []\n",
    "            yara_list = []\n",
    "\n",
    "            for num, i in enumerate(kontur_2):\n",
    "                xara_list.append(kontur_2[num][0][0])\n",
    "                yara_list.append(kontur_2[num][0][1])\n",
    "\n",
    "            x_list.append(xara_list)\n",
    "            y_list.append(yara_list)\n",
    "    \n",
    "    # ------------- Json İçeriği Oluşturma Kısmı ------------------------\n",
    "    name = img_path.split(\"\\\\\")[-1]\n",
    "    add_value(labels, name, {\"filename\": f\"{name}\", \"regions\": {}})\n",
    "\n",
    "    for i in range(len(x_list)):\n",
    "        a = labels[f\"{name}\"]['regions']\n",
    "        add_value(a, label_id, {\"shape_attributes\": {\"all_points_x\": f\"{x_list[i]}\", \"all_points_y\": f\"{y_list[i]}\", \"name\": \"polygon\"}})\n",
    "        label_id += 1\n",
    "    \n",
    "    # ---------------- Json İçini Düzenleme ve Kaydetme Kısmı -----------------\n",
    "str_labels = str(labels)\n",
    "str_labels = str_labels.replace(\"'[\", \"[\")\n",
    "str_labels = str_labels.replace(\"]'\", \"]\")\n",
    "\n",
    "labels = ast.literal_eval(str_labels)\n",
    "\n",
    "json.dump(labels, codecs.open('data.json', 'w', encoding='utf-8'), separators=(',', ':'), sort_keys=True, indent= 4) "
   ]
  },
  {
   "cell_type": "code",
   "execution_count": 49,
   "metadata": {},
   "outputs": [
    {
     "data": {
      "text/plain": [
       "'asasasas/*'"
      ]
     },
     "execution_count": 49,
     "metadata": {},
     "output_type": "execute_result"
    }
   ],
   "source": [
    "a = \"asasasas\"\n",
    "b = f\"{a}/*\"\n",
    "b"
   ]
  },
  {
   "cell_type": "code",
   "execution_count": null,
   "metadata": {},
   "outputs": [],
   "source": []
  }
 ],
 "metadata": {
  "kernelspec": {
   "display_name": "Python 3",
   "language": "python",
   "name": "python3"
  },
  "language_info": {
   "codemirror_mode": {
    "name": "ipython",
    "version": 3
   },
   "file_extension": ".py",
   "mimetype": "text/x-python",
   "name": "python",
   "nbconvert_exporter": "python",
   "pygments_lexer": "ipython3",
   "version": "3.7.10"
  },
  "toc": {
   "base_numbering": 1,
   "nav_menu": {},
   "number_sections": true,
   "sideBar": true,
   "skip_h1_title": false,
   "title_cell": "Table of Contents",
   "title_sidebar": "Contents",
   "toc_cell": false,
   "toc_position": {},
   "toc_section_display": true,
   "toc_window_display": false
  }
 },
 "nbformat": 4,
 "nbformat_minor": 4
}
